{
  "nbformat": 4,
  "nbformat_minor": 0,
  "metadata": {
    "colab": {
      "name": "DA_2_NLP-19BCE1381.ipynb",
      "provenance": []
    },
    "kernelspec": {
      "name": "python3",
      "display_name": "Python 3"
    },
    "language_info": {
      "name": "python"
    }
  },
  "cells": [
    {
      "cell_type": "code",
      "source": [
        "from nltk.corpus.reader import WordListCorpusReader\n",
        "from google.colab import files\n",
        "uploaded = files.upload()\n",
        "x = WordListCorpusReader(\".\", uploaded)\n",
        "x.words()\n",
        "  \n"
      ],
      "metadata": {
        "colab": {
          "resources": {
            "http://localhost:8080/nbextensions/google.colab/files.js": {
              "data": "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",
              "ok": true,
              "headers": [
                [
                  "content-type",
                  "application/javascript"
                ]
              ],
              "status": 200,
              "status_text": ""
            }
          },
          "base_uri": "https://localhost:8080/",
          "height": 317
        },
        "id": "zdydFqORQplk",
        "outputId": "a959d63a-b54a-464d-cf0d-2b22032f4147"
      },
      "execution_count": 1,
      "outputs": [
        {
          "output_type": "display_data",
          "data": {
            "text/plain": [
              "<IPython.core.display.HTML object>"
            ],
            "text/html": [
              "\n",
              "     <input type=\"file\" id=\"files-311cb240-8d83-4753-8d94-4e32dd0eb357\" name=\"files[]\" multiple disabled\n",
              "        style=\"border:none\" />\n",
              "     <output id=\"result-311cb240-8d83-4753-8d94-4e32dd0eb357\">\n",
              "      Upload widget is only available when the cell has been executed in the\n",
              "      current browser session. Please rerun this cell to enable.\n",
              "      </output>\n",
              "      <script src=\"/nbextensions/google.colab/files.js\"></script> "
            ]
          },
          "metadata": {}
        },
        {
          "output_type": "stream",
          "name": "stdout",
          "text": [
            "Saving myCorpus.txt to myCorpus.txt\n"
          ]
        },
        {
          "output_type": "execute_result",
          "data": {
            "text/plain": [
              "['A basic robotic arc welding system is formed by two subsystems: the welding equipment delivering the energy from the welding power source to the workpiece, and the robot providing relative positioning of the heat source and the workpiece. Normally six-axis industrial robots comprising a three-axis lower arm and a three-axis wrist are used, since they enable the welding torch mounted at the wrist to achieve all the positions necessary for three-dimensional welding. Traditionally, general purpose industrial robots are employed, carrying arc welding torches as end effectors. ',\n",
              " 'Sensing technologies designed for welding and its automation are the essential elements for enabling this desired level of control. The sensors are applied to observe and measure process parameters, acting as the sources of input to the control system. By acquiring and analysing the input information from the sensors, the control system adapts output of the robotised welding process in accordance with the defined welding procedure specifications. ',\n",
              " 'There are various types of sensors available for robotic arc welding applications. Depending on their functions, the sensors are classified into two categories: process and geometrical. The former measure the process parameters of the robotic welding process (eg arc voltage, current, wire feed speed and torch rotation), which determine the stability of the process. The latter measure the weld joint geometry (eg gap sizes, weld size changes, deviation from the nominal path and orientation changes) and are used for weld searching, seam tracking and real-time adaptive welding.',\n",
              " 'The primary benefit of robotic arc welding is the production of high-quality welds in a shorter cycle time, with manufacturing flexibility another major advantage. Through extensive application in many manufacturing industry sectors, robotic welding has been developed to a mature production method. Strong industrial need continues to drive the rapid development of robotic arc welding and associated technologies to overcome technical difficulties and expand their capability.']"
            ]
          },
          "metadata": {},
          "execution_count": 1
        }
      ]
    },
    {
      "cell_type": "code",
      "source": [
        ""
      ],
      "metadata": {
        "id": "sVw8MNYsR39Z"
      },
      "execution_count": null,
      "outputs": []
    },
    {
      "cell_type": "markdown",
      "source": [
        "## Word Segmentation"
      ],
      "metadata": {
        "id": "dd5v26k0JlSC"
      }
    },
    {
      "cell_type": "code",
      "source": [
        "import nltk\n",
        "nltk.download('punkt')\n",
        "from nltk.tokenize import word_tokenize\n",
        "#text = \"God is Great! I won a lottery.\"\n",
        "print(word_tokenize(x.raw()))"
      ],
      "metadata": {
        "colab": {
          "base_uri": "https://localhost:8080/"
        },
        "id": "FUPdkSRGJqzg",
        "outputId": "740e67b1-1a97-4779-917d-3cc1e16bd2b9"
      },
      "execution_count": 3,
      "outputs": [
        {
          "output_type": "stream",
          "name": "stderr",
          "text": [
            "[nltk_data] Downloading package punkt to /root/nltk_data...\n",
            "[nltk_data]   Unzipping tokenizers/punkt.zip.\n"
          ]
        },
        {
          "output_type": "stream",
          "name": "stdout",
          "text": [
            "['A', 'basic', 'robotic', 'arc', 'welding', 'system', 'is', 'formed', 'by', 'two', 'subsystems', ':', 'the', 'welding', 'equipment', 'delivering', 'the', 'energy', 'from', 'the', 'welding', 'power', 'source', 'to', 'the', 'workpiece', ',', 'and', 'the', 'robot', 'providing', 'relative', 'positioning', 'of', 'the', 'heat', 'source', 'and', 'the', 'workpiece', '.', 'Normally', 'six-axis', 'industrial', 'robots', 'comprising', 'a', 'three-axis', 'lower', 'arm', 'and', 'a', 'three-axis', 'wrist', 'are', 'used', ',', 'since', 'they', 'enable', 'the', 'welding', 'torch', 'mounted', 'at', 'the', 'wrist', 'to', 'achieve', 'all', 'the', 'positions', 'necessary', 'for', 'three-dimensional', 'welding', '.', 'Traditionally', ',', 'general', 'purpose', 'industrial', 'robots', 'are', 'employed', ',', 'carrying', 'arc', 'welding', 'torches', 'as', 'end', 'effectors', '.', 'Sensing', 'technologies', 'designed', 'for', 'welding', 'and', 'its', 'automation', 'are', 'the', 'essential', 'elements', 'for', 'enabling', 'this', 'desired', 'level', 'of', 'control', '.', 'The', 'sensors', 'are', 'applied', 'to', 'observe', 'and', 'measure', 'process', 'parameters', ',', 'acting', 'as', 'the', 'sources', 'of', 'input', 'to', 'the', 'control', 'system', '.', 'By', 'acquiring', 'and', 'analysing', 'the', 'input', 'information', 'from', 'the', 'sensors', ',', 'the', 'control', 'system', 'adapts', 'output', 'of', 'the', 'robotised', 'welding', 'process', 'in', 'accordance', 'with', 'the', 'defined', 'welding', 'procedure', 'specifications', '.', 'There', 'are', 'various', 'types', 'of', 'sensors', 'available', 'for', 'robotic', 'arc', 'welding', 'applications', '.', 'Depending', 'on', 'their', 'functions', ',', 'the', 'sensors', 'are', 'classified', 'into', 'two', 'categories', ':', 'process', 'and', 'geometrical', '.', 'The', 'former', 'measure', 'the', 'process', 'parameters', 'of', 'the', 'robotic', 'welding', 'process', '(', 'eg', 'arc', 'voltage', ',', 'current', ',', 'wire', 'feed', 'speed', 'and', 'torch', 'rotation', ')', ',', 'which', 'determine', 'the', 'stability', 'of', 'the', 'process', '.', 'The', 'latter', 'measure', 'the', 'weld', 'joint', 'geometry', '(', 'eg', 'gap', 'sizes', ',', 'weld', 'size', 'changes', ',', 'deviation', 'from', 'the', 'nominal', 'path', 'and', 'orientation', 'changes', ')', 'and', 'are', 'used', 'for', 'weld', 'searching', ',', 'seam', 'tracking', 'and', 'real-time', 'adaptive', 'welding', '.', 'The', 'primary', 'benefit', 'of', 'robotic', 'arc', 'welding', 'is', 'the', 'production', 'of', 'high-quality', 'welds', 'in', 'a', 'shorter', 'cycle', 'time', ',', 'with', 'manufacturing', 'flexibility', 'another', 'major', 'advantage', '.', 'Through', 'extensive', 'application', 'in', 'many', 'manufacturing', 'industry', 'sectors', ',', 'robotic', 'welding', 'has', 'been', 'developed', 'to', 'a', 'mature', 'production', 'method', '.', 'Strong', 'industrial', 'need', 'continues', 'to', 'drive', 'the', 'rapid', 'development', 'of', 'robotic', 'arc', 'welding', 'and', 'associated', 'technologies', 'to', 'overcome', 'technical', 'difficulties', 'and', 'expand', 'their', 'capability', '.']\n"
          ]
        }
      ]
    },
    {
      "cell_type": "markdown",
      "source": [
        "## Stemming"
      ],
      "metadata": {
        "id": "7fXDavQkKR8g"
      }
    },
    {
      "cell_type": "code",
      "source": [
        "# import these modules\n",
        "from nltk.stem import PorterStemmer\n",
        "from nltk.tokenize import word_tokenize\n",
        "\n",
        "ps = PorterStemmer()\n",
        "\n",
        "# choose some words to be stemmed\n",
        "#words = [\"program\", \"programs\", \"programmer\", \"programming\", \"programmers\"]\n",
        "k=word_tokenize(x.raw())\n",
        "for w in k:\n",
        "\tprint(w, \" : \", ps.stem(w))\n"
      ],
      "metadata": {
        "colab": {
          "base_uri": "https://localhost:8080/"
        },
        "id": "28NrHkmeKWHY",
        "outputId": "ea2e9ea5-ce71-4320-e8f4-d2670b7a19f7"
      },
      "execution_count": 4,
      "outputs": [
        {
          "output_type": "stream",
          "name": "stdout",
          "text": [
            "A  :  a\n",
            "basic  :  basic\n",
            "robotic  :  robot\n",
            "arc  :  arc\n",
            "welding  :  weld\n",
            "system  :  system\n",
            "is  :  is\n",
            "formed  :  form\n",
            "by  :  by\n",
            "two  :  two\n",
            "subsystems  :  subsystem\n",
            ":  :  :\n",
            "the  :  the\n",
            "welding  :  weld\n",
            "equipment  :  equip\n",
            "delivering  :  deliv\n",
            "the  :  the\n",
            "energy  :  energi\n",
            "from  :  from\n",
            "the  :  the\n",
            "welding  :  weld\n",
            "power  :  power\n",
            "source  :  sourc\n",
            "to  :  to\n",
            "the  :  the\n",
            "workpiece  :  workpiec\n",
            ",  :  ,\n",
            "and  :  and\n",
            "the  :  the\n",
            "robot  :  robot\n",
            "providing  :  provid\n",
            "relative  :  rel\n",
            "positioning  :  posit\n",
            "of  :  of\n",
            "the  :  the\n",
            "heat  :  heat\n",
            "source  :  sourc\n",
            "and  :  and\n",
            "the  :  the\n",
            "workpiece  :  workpiec\n",
            ".  :  .\n",
            "Normally  :  normal\n",
            "six-axis  :  six-axi\n",
            "industrial  :  industri\n",
            "robots  :  robot\n",
            "comprising  :  compris\n",
            "a  :  a\n",
            "three-axis  :  three-axi\n",
            "lower  :  lower\n",
            "arm  :  arm\n",
            "and  :  and\n",
            "a  :  a\n",
            "three-axis  :  three-axi\n",
            "wrist  :  wrist\n",
            "are  :  are\n",
            "used  :  use\n",
            ",  :  ,\n",
            "since  :  sinc\n",
            "they  :  they\n",
            "enable  :  enabl\n",
            "the  :  the\n",
            "welding  :  weld\n",
            "torch  :  torch\n",
            "mounted  :  mount\n",
            "at  :  at\n",
            "the  :  the\n",
            "wrist  :  wrist\n",
            "to  :  to\n",
            "achieve  :  achiev\n",
            "all  :  all\n",
            "the  :  the\n",
            "positions  :  posit\n",
            "necessary  :  necessari\n",
            "for  :  for\n",
            "three-dimensional  :  three-dimension\n",
            "welding  :  weld\n",
            ".  :  .\n",
            "Traditionally  :  tradit\n",
            ",  :  ,\n",
            "general  :  gener\n",
            "purpose  :  purpos\n",
            "industrial  :  industri\n",
            "robots  :  robot\n",
            "are  :  are\n",
            "employed  :  employ\n",
            ",  :  ,\n",
            "carrying  :  carri\n",
            "arc  :  arc\n",
            "welding  :  weld\n",
            "torches  :  torch\n",
            "as  :  as\n",
            "end  :  end\n",
            "effectors  :  effector\n",
            ".  :  .\n",
            "Sensing  :  sens\n",
            "technologies  :  technolog\n",
            "designed  :  design\n",
            "for  :  for\n",
            "welding  :  weld\n",
            "and  :  and\n",
            "its  :  it\n",
            "automation  :  autom\n",
            "are  :  are\n",
            "the  :  the\n",
            "essential  :  essenti\n",
            "elements  :  element\n",
            "for  :  for\n",
            "enabling  :  enabl\n",
            "this  :  thi\n",
            "desired  :  desir\n",
            "level  :  level\n",
            "of  :  of\n",
            "control  :  control\n",
            ".  :  .\n",
            "The  :  the\n",
            "sensors  :  sensor\n",
            "are  :  are\n",
            "applied  :  appli\n",
            "to  :  to\n",
            "observe  :  observ\n",
            "and  :  and\n",
            "measure  :  measur\n",
            "process  :  process\n",
            "parameters  :  paramet\n",
            ",  :  ,\n",
            "acting  :  act\n",
            "as  :  as\n",
            "the  :  the\n",
            "sources  :  sourc\n",
            "of  :  of\n",
            "input  :  input\n",
            "to  :  to\n",
            "the  :  the\n",
            "control  :  control\n",
            "system  :  system\n",
            ".  :  .\n",
            "By  :  by\n",
            "acquiring  :  acquir\n",
            "and  :  and\n",
            "analysing  :  analys\n",
            "the  :  the\n",
            "input  :  input\n",
            "information  :  inform\n",
            "from  :  from\n",
            "the  :  the\n",
            "sensors  :  sensor\n",
            ",  :  ,\n",
            "the  :  the\n",
            "control  :  control\n",
            "system  :  system\n",
            "adapts  :  adapt\n",
            "output  :  output\n",
            "of  :  of\n",
            "the  :  the\n",
            "robotised  :  robotis\n",
            "welding  :  weld\n",
            "process  :  process\n",
            "in  :  in\n",
            "accordance  :  accord\n",
            "with  :  with\n",
            "the  :  the\n",
            "defined  :  defin\n",
            "welding  :  weld\n",
            "procedure  :  procedur\n",
            "specifications  :  specif\n",
            ".  :  .\n",
            "There  :  there\n",
            "are  :  are\n",
            "various  :  variou\n",
            "types  :  type\n",
            "of  :  of\n",
            "sensors  :  sensor\n",
            "available  :  avail\n",
            "for  :  for\n",
            "robotic  :  robot\n",
            "arc  :  arc\n",
            "welding  :  weld\n",
            "applications  :  applic\n",
            ".  :  .\n",
            "Depending  :  depend\n",
            "on  :  on\n",
            "their  :  their\n",
            "functions  :  function\n",
            ",  :  ,\n",
            "the  :  the\n",
            "sensors  :  sensor\n",
            "are  :  are\n",
            "classified  :  classifi\n",
            "into  :  into\n",
            "two  :  two\n",
            "categories  :  categori\n",
            ":  :  :\n",
            "process  :  process\n",
            "and  :  and\n",
            "geometrical  :  geometr\n",
            ".  :  .\n",
            "The  :  the\n",
            "former  :  former\n",
            "measure  :  measur\n",
            "the  :  the\n",
            "process  :  process\n",
            "parameters  :  paramet\n",
            "of  :  of\n",
            "the  :  the\n",
            "robotic  :  robot\n",
            "welding  :  weld\n",
            "process  :  process\n",
            "(  :  (\n",
            "eg  :  eg\n",
            "arc  :  arc\n",
            "voltage  :  voltag\n",
            ",  :  ,\n",
            "current  :  current\n",
            ",  :  ,\n",
            "wire  :  wire\n",
            "feed  :  feed\n",
            "speed  :  speed\n",
            "and  :  and\n",
            "torch  :  torch\n",
            "rotation  :  rotat\n",
            ")  :  )\n",
            ",  :  ,\n",
            "which  :  which\n",
            "determine  :  determin\n",
            "the  :  the\n",
            "stability  :  stabil\n",
            "of  :  of\n",
            "the  :  the\n",
            "process  :  process\n",
            ".  :  .\n",
            "The  :  the\n",
            "latter  :  latter\n",
            "measure  :  measur\n",
            "the  :  the\n",
            "weld  :  weld\n",
            "joint  :  joint\n",
            "geometry  :  geometri\n",
            "(  :  (\n",
            "eg  :  eg\n",
            "gap  :  gap\n",
            "sizes  :  size\n",
            ",  :  ,\n",
            "weld  :  weld\n",
            "size  :  size\n",
            "changes  :  chang\n",
            ",  :  ,\n",
            "deviation  :  deviat\n",
            "from  :  from\n",
            "the  :  the\n",
            "nominal  :  nomin\n",
            "path  :  path\n",
            "and  :  and\n",
            "orientation  :  orient\n",
            "changes  :  chang\n",
            ")  :  )\n",
            "and  :  and\n",
            "are  :  are\n",
            "used  :  use\n",
            "for  :  for\n",
            "weld  :  weld\n",
            "searching  :  search\n",
            ",  :  ,\n",
            "seam  :  seam\n",
            "tracking  :  track\n",
            "and  :  and\n",
            "real-time  :  real-tim\n",
            "adaptive  :  adapt\n",
            "welding  :  weld\n",
            ".  :  .\n",
            "The  :  the\n",
            "primary  :  primari\n",
            "benefit  :  benefit\n",
            "of  :  of\n",
            "robotic  :  robot\n",
            "arc  :  arc\n",
            "welding  :  weld\n",
            "is  :  is\n",
            "the  :  the\n",
            "production  :  product\n",
            "of  :  of\n",
            "high-quality  :  high-qual\n",
            "welds  :  weld\n",
            "in  :  in\n",
            "a  :  a\n",
            "shorter  :  shorter\n",
            "cycle  :  cycl\n",
            "time  :  time\n",
            ",  :  ,\n",
            "with  :  with\n",
            "manufacturing  :  manufactur\n",
            "flexibility  :  flexibl\n",
            "another  :  anoth\n",
            "major  :  major\n",
            "advantage  :  advantag\n",
            ".  :  .\n",
            "Through  :  through\n",
            "extensive  :  extens\n",
            "application  :  applic\n",
            "in  :  in\n",
            "many  :  mani\n",
            "manufacturing  :  manufactur\n",
            "industry  :  industri\n",
            "sectors  :  sector\n",
            ",  :  ,\n",
            "robotic  :  robot\n",
            "welding  :  weld\n",
            "has  :  ha\n",
            "been  :  been\n",
            "developed  :  develop\n",
            "to  :  to\n",
            "a  :  a\n",
            "mature  :  matur\n",
            "production  :  product\n",
            "method  :  method\n",
            ".  :  .\n",
            "Strong  :  strong\n",
            "industrial  :  industri\n",
            "need  :  need\n",
            "continues  :  continu\n",
            "to  :  to\n",
            "drive  :  drive\n",
            "the  :  the\n",
            "rapid  :  rapid\n",
            "development  :  develop\n",
            "of  :  of\n",
            "robotic  :  robot\n",
            "arc  :  arc\n",
            "welding  :  weld\n",
            "and  :  and\n",
            "associated  :  associ\n",
            "technologies  :  technolog\n",
            "to  :  to\n",
            "overcome  :  overcom\n",
            "technical  :  technic\n",
            "difficulties  :  difficulti\n",
            "and  :  and\n",
            "expand  :  expand\n",
            "their  :  their\n",
            "capability  :  capabl\n",
            ".  :  .\n"
          ]
        }
      ]
    },
    {
      "cell_type": "markdown",
      "source": [
        "## POS Tagging"
      ],
      "metadata": {
        "id": "IgwtzJ0FKg-n"
      }
    },
    {
      "cell_type": "code",
      "source": [
        "import nltk\n",
        "nltk.download('stopwords')\n",
        "nltk.download('averaged_perceptron_tagger')\n",
        "from nltk.corpus import stopwords\n",
        "from nltk.tokenize import word_tokenize, sent_tokenize\n",
        "stop_words = set(stopwords.words('english'))\n",
        "\n",
        "\n",
        "#txt = \"\"\"My Name is James Bond\"\"\"\n",
        "\n",
        "# sent_tokenize is one of instances of\n",
        "# PunktSentenceTokenizer from the nltk.tokenize.punkt module\n",
        "\n",
        "tokenized = sent_tokenize(x.raw())\n",
        "for i in tokenized:\n",
        "\t\n",
        "\t# Word tokenizers is used to find the words\n",
        "\t# and punctuation in a string\n",
        "\twordsList = nltk.word_tokenize(i)\n",
        "\n",
        "\t# removing stop words from wordList\n",
        "\twordsList = [w for w in wordsList if not w in stop_words]\n",
        "\n",
        "\t# Using a Tagger. Which is part-of-speech\n",
        "\t# tagger or POS-tagger.\n",
        "\ttagged = nltk.pos_tag(wordsList)\n",
        "\n",
        "\tprint(tagged)\n"
      ],
      "metadata": {
        "colab": {
          "base_uri": "https://localhost:8080/"
        },
        "id": "76zA6QcaKwk8",
        "outputId": "8d17fa19-f644-4160-a936-27cf129ea9ce"
      },
      "execution_count": 5,
      "outputs": [
        {
          "output_type": "stream",
          "name": "stderr",
          "text": [
            "[nltk_data] Downloading package stopwords to /root/nltk_data...\n",
            "[nltk_data]   Unzipping corpora/stopwords.zip.\n",
            "[nltk_data] Downloading package averaged_perceptron_tagger to\n",
            "[nltk_data]     /root/nltk_data...\n",
            "[nltk_data]   Unzipping taggers/averaged_perceptron_tagger.zip.\n"
          ]
        },
        {
          "output_type": "stream",
          "name": "stdout",
          "text": [
            "[('A', 'DT'), ('basic', 'JJ'), ('robotic', 'JJ'), ('arc', 'NN'), ('welding', 'VBG'), ('system', 'NN'), ('formed', 'VBD'), ('two', 'CD'), ('subsystems', 'NNS'), (':', ':'), ('welding', 'NN'), ('equipment', 'NN'), ('delivering', 'VBG'), ('energy', 'NN'), ('welding', 'VBG'), ('power', 'NN'), ('source', 'NN'), ('workpiece', 'NN'), (',', ','), ('robot', 'NN'), ('providing', 'VBG'), ('relative', 'JJ'), ('positioning', 'NN'), ('heat', 'NN'), ('source', 'NN'), ('workpiece', 'NN'), ('.', '.')]\n",
            "[('Normally', 'RB'), ('six-axis', 'JJ'), ('industrial', 'JJ'), ('robots', 'NNS'), ('comprising', 'VBG'), ('three-axis', 'JJ'), ('lower', 'JJR'), ('arm', 'NN'), ('three-axis', 'JJ'), ('wrist', 'NN'), ('used', 'VBN'), (',', ','), ('since', 'IN'), ('enable', 'JJ'), ('welding', 'VBG'), ('torch', 'NN'), ('mounted', 'VBD'), ('wrist', 'JJ'), ('achieve', 'JJ'), ('positions', 'NNS'), ('necessary', 'JJ'), ('three-dimensional', 'JJ'), ('welding', 'NN'), ('.', '.')]\n",
            "[('Traditionally', 'RB'), (',', ','), ('general', 'JJ'), ('purpose', 'VBP'), ('industrial', 'JJ'), ('robots', 'NNS'), ('employed', 'VBN'), (',', ','), ('carrying', 'VBG'), ('arc', 'RP'), ('welding', 'VBG'), ('torches', 'NNS'), ('end', 'VBP'), ('effectors', 'NNS'), ('.', '.')]\n",
            "[('Sensing', 'VBG'), ('technologies', 'NNS'), ('designed', 'VBN'), ('welding', 'VBG'), ('automation', 'NN'), ('essential', 'JJ'), ('elements', 'NNS'), ('enabling', 'VBG'), ('desired', 'JJ'), ('level', 'NN'), ('control', 'NN'), ('.', '.')]\n",
            "[('The', 'DT'), ('sensors', 'NNS'), ('applied', 'VBD'), ('observe', 'JJ'), ('measure', 'NN'), ('process', 'NN'), ('parameters', 'NNS'), (',', ','), ('acting', 'VBG'), ('sources', 'NNS'), ('input', 'VB'), ('control', 'NN'), ('system', 'NN'), ('.', '.')]\n",
            "[('By', 'IN'), ('acquiring', 'VBG'), ('analysing', 'VBG'), ('input', 'JJ'), ('information', 'NN'), ('sensors', 'NNS'), (',', ','), ('control', 'NN'), ('system', 'NN'), ('adapts', 'VBZ'), ('output', 'NN'), ('robotised', 'VBD'), ('welding', 'VBG'), ('process', 'NN'), ('accordance', 'NN'), ('defined', 'VBD'), ('welding', 'JJ'), ('procedure', 'NN'), ('specifications', 'NNS'), ('.', '.')]\n",
            "[('There', 'EX'), ('various', 'JJ'), ('types', 'NNS'), ('sensors', 'NNS'), ('available', 'JJ'), ('robotic', 'JJ'), ('arc', 'NN'), ('welding', 'NN'), ('applications', 'NNS'), ('.', '.')]\n",
            "[('Depending', 'VBG'), ('functions', 'NNS'), (',', ','), ('sensors', 'NNS'), ('classified', 'VBD'), ('two', 'CD'), ('categories', 'NNS'), (':', ':'), ('process', 'NN'), ('geometrical', 'NN'), ('.', '.')]\n",
            "[('The', 'DT'), ('former', 'JJ'), ('measure', 'NN'), ('process', 'NN'), ('parameters', 'NNS'), ('robotic', 'JJ'), ('welding', 'NN'), ('process', 'NN'), ('(', '('), ('eg', 'JJ'), ('arc', 'NN'), ('voltage', 'NN'), (',', ','), ('current', 'JJ'), (',', ','), ('wire', 'NN'), ('feed', 'NN'), ('speed', 'NN'), ('torch', 'NN'), ('rotation', 'NN'), (')', ')'), (',', ','), ('determine', 'JJ'), ('stability', 'NN'), ('process', 'NN'), ('.', '.')]\n",
            "[('The', 'DT'), ('latter', 'JJ'), ('measure', 'NN'), ('weld', 'VBD'), ('joint', 'JJ'), ('geometry', 'NN'), ('(', '('), ('eg', 'JJ'), ('gap', 'NN'), ('sizes', 'NNS'), (',', ','), ('weld', 'VBD'), ('size', 'NN'), ('changes', 'NNS'), (',', ','), ('deviation', 'NN'), ('nominal', 'JJ'), ('path', 'NN'), ('orientation', 'NN'), ('changes', 'NNS'), (')', ')'), ('used', 'VBD'), ('weld', 'NN'), ('searching', 'NN'), (',', ','), ('seam', 'NN'), ('tracking', 'VBG'), ('real-time', 'JJ'), ('adaptive', 'JJ'), ('welding', 'NN'), ('.', '.')]\n",
            "[('The', 'DT'), ('primary', 'JJ'), ('benefit', 'NN'), ('robotic', 'JJ'), ('arc', 'NN'), ('welding', 'VBG'), ('production', 'NN'), ('high-quality', 'NN'), ('welds', 'NNS'), ('shorter', 'JJR'), ('cycle', 'NN'), ('time', 'NN'), (',', ','), ('manufacturing', 'VBG'), ('flexibility', 'NN'), ('another', 'DT'), ('major', 'JJ'), ('advantage', 'NN'), ('.', '.')]\n",
            "[('Through', 'IN'), ('extensive', 'JJ'), ('application', 'NN'), ('many', 'JJ'), ('manufacturing', 'NN'), ('industry', 'NN'), ('sectors', 'NNS'), (',', ','), ('robotic', 'JJ'), ('welding', 'NN'), ('developed', 'JJ'), ('mature', 'NN'), ('production', 'NN'), ('method', 'NN'), ('.', '.')]\n",
            "[('Strong', 'JJ'), ('industrial', 'JJ'), ('need', 'NN'), ('continues', 'VBZ'), ('drive', 'JJ'), ('rapid', 'JJ'), ('development', 'NN'), ('robotic', 'JJ'), ('arc', 'NN'), ('welding', 'VBG'), ('associated', 'VBN'), ('technologies', 'NNS'), ('overcome', 'VBP'), ('technical', 'JJ'), ('difficulties', 'NNS'), ('expand', 'VBP'), ('capability', 'NN'), ('.', '.')]\n"
          ]
        }
      ]
    },
    {
      "cell_type": "markdown",
      "source": [
        "## Lemmatization"
      ],
      "metadata": {
        "id": "IO5HK_ToLa2c"
      }
    },
    {
      "cell_type": "code",
      "source": [
        "nltk.download('wordnet')\n",
        "nltk.download('omw-1.4')\n",
        " #import these modules\n",
        "from nltk.stem import WordNetLemmatizer\n",
        "\n",
        "lemmatizer = WordNetLemmatizer()\n",
        "\n",
        "print(\"rocks :\", lemmatizer.lemmatize(\"rocks\"))\n",
        "print(\"corpora :\", lemmatizer.lemmatize(\"corpora\"))\n",
        "\n",
        "# a denotes adjective in \"pos\"\n",
        "print(\"better :\", lemmatizer.lemmatize(\"better\", pos =\"a\"))\n"
      ],
      "metadata": {
        "colab": {
          "base_uri": "https://localhost:8080/"
        },
        "id": "FNJOG0VyK3gh",
        "outputId": "34878f30-8bad-47e6-cdc0-8ed44bee372c"
      },
      "execution_count": 7,
      "outputs": [
        {
          "output_type": "stream",
          "name": "stderr",
          "text": [
            "[nltk_data] Downloading package wordnet to /root/nltk_data...\n",
            "[nltk_data] Downloading package omw-1.4 to /root/nltk_data...\n"
          ]
        },
        {
          "output_type": "stream",
          "name": "stdout",
          "text": [
            "rocks : rock\n",
            "corpora : corpus\n",
            "better : good\n"
          ]
        }
      ]
    },
    {
      "cell_type": "markdown",
      "source": [
        "## Stop Words Removal"
      ],
      "metadata": {
        "id": "2Ca5Wo_FMv8i"
      }
    },
    {
      "cell_type": "code",
      "source": [
        "from nltk.corpus import stopwords\n",
        "from nltk.tokenize import word_tokenize\n",
        "\n",
        "#example_sent = \"\"\"This is a sample sentence,\n",
        "#\t\t\t\tshowing off the stop words filtration.\"\"\"\n",
        "\n",
        "example_sent=x.raw();\n",
        "\n",
        "stop_words = set(stopwords.words('english'))\n",
        "\n",
        "word_tokens = word_tokenize(example_sent)\n",
        "\n",
        "filtered_sentence = [w for w in word_tokens if not w.lower() in stop_words]\n",
        "\n",
        "filtered_sentence = []\n",
        "\n",
        "for w in word_tokens:\n",
        "\tif w not in stop_words:\n",
        "\t\tfiltered_sentence.append(w)\n",
        "\n",
        "print(word_tokens)\n",
        "print(filtered_sentence)\n"
      ],
      "metadata": {
        "colab": {
          "base_uri": "https://localhost:8080/"
        },
        "id": "NQiwswf0MyrG",
        "outputId": "5a0f8518-b109-4806-84a4-768f717e72ab"
      },
      "execution_count": 8,
      "outputs": [
        {
          "output_type": "stream",
          "name": "stdout",
          "text": [
            "['A', 'basic', 'robotic', 'arc', 'welding', 'system', 'is', 'formed', 'by', 'two', 'subsystems', ':', 'the', 'welding', 'equipment', 'delivering', 'the', 'energy', 'from', 'the', 'welding', 'power', 'source', 'to', 'the', 'workpiece', ',', 'and', 'the', 'robot', 'providing', 'relative', 'positioning', 'of', 'the', 'heat', 'source', 'and', 'the', 'workpiece', '.', 'Normally', 'six-axis', 'industrial', 'robots', 'comprising', 'a', 'three-axis', 'lower', 'arm', 'and', 'a', 'three-axis', 'wrist', 'are', 'used', ',', 'since', 'they', 'enable', 'the', 'welding', 'torch', 'mounted', 'at', 'the', 'wrist', 'to', 'achieve', 'all', 'the', 'positions', 'necessary', 'for', 'three-dimensional', 'welding', '.', 'Traditionally', ',', 'general', 'purpose', 'industrial', 'robots', 'are', 'employed', ',', 'carrying', 'arc', 'welding', 'torches', 'as', 'end', 'effectors', '.', 'Sensing', 'technologies', 'designed', 'for', 'welding', 'and', 'its', 'automation', 'are', 'the', 'essential', 'elements', 'for', 'enabling', 'this', 'desired', 'level', 'of', 'control', '.', 'The', 'sensors', 'are', 'applied', 'to', 'observe', 'and', 'measure', 'process', 'parameters', ',', 'acting', 'as', 'the', 'sources', 'of', 'input', 'to', 'the', 'control', 'system', '.', 'By', 'acquiring', 'and', 'analysing', 'the', 'input', 'information', 'from', 'the', 'sensors', ',', 'the', 'control', 'system', 'adapts', 'output', 'of', 'the', 'robotised', 'welding', 'process', 'in', 'accordance', 'with', 'the', 'defined', 'welding', 'procedure', 'specifications', '.', 'There', 'are', 'various', 'types', 'of', 'sensors', 'available', 'for', 'robotic', 'arc', 'welding', 'applications', '.', 'Depending', 'on', 'their', 'functions', ',', 'the', 'sensors', 'are', 'classified', 'into', 'two', 'categories', ':', 'process', 'and', 'geometrical', '.', 'The', 'former', 'measure', 'the', 'process', 'parameters', 'of', 'the', 'robotic', 'welding', 'process', '(', 'eg', 'arc', 'voltage', ',', 'current', ',', 'wire', 'feed', 'speed', 'and', 'torch', 'rotation', ')', ',', 'which', 'determine', 'the', 'stability', 'of', 'the', 'process', '.', 'The', 'latter', 'measure', 'the', 'weld', 'joint', 'geometry', '(', 'eg', 'gap', 'sizes', ',', 'weld', 'size', 'changes', ',', 'deviation', 'from', 'the', 'nominal', 'path', 'and', 'orientation', 'changes', ')', 'and', 'are', 'used', 'for', 'weld', 'searching', ',', 'seam', 'tracking', 'and', 'real-time', 'adaptive', 'welding', '.', 'The', 'primary', 'benefit', 'of', 'robotic', 'arc', 'welding', 'is', 'the', 'production', 'of', 'high-quality', 'welds', 'in', 'a', 'shorter', 'cycle', 'time', ',', 'with', 'manufacturing', 'flexibility', 'another', 'major', 'advantage', '.', 'Through', 'extensive', 'application', 'in', 'many', 'manufacturing', 'industry', 'sectors', ',', 'robotic', 'welding', 'has', 'been', 'developed', 'to', 'a', 'mature', 'production', 'method', '.', 'Strong', 'industrial', 'need', 'continues', 'to', 'drive', 'the', 'rapid', 'development', 'of', 'robotic', 'arc', 'welding', 'and', 'associated', 'technologies', 'to', 'overcome', 'technical', 'difficulties', 'and', 'expand', 'their', 'capability', '.']\n",
            "['A', 'basic', 'robotic', 'arc', 'welding', 'system', 'formed', 'two', 'subsystems', ':', 'welding', 'equipment', 'delivering', 'energy', 'welding', 'power', 'source', 'workpiece', ',', 'robot', 'providing', 'relative', 'positioning', 'heat', 'source', 'workpiece', '.', 'Normally', 'six-axis', 'industrial', 'robots', 'comprising', 'three-axis', 'lower', 'arm', 'three-axis', 'wrist', 'used', ',', 'since', 'enable', 'welding', 'torch', 'mounted', 'wrist', 'achieve', 'positions', 'necessary', 'three-dimensional', 'welding', '.', 'Traditionally', ',', 'general', 'purpose', 'industrial', 'robots', 'employed', ',', 'carrying', 'arc', 'welding', 'torches', 'end', 'effectors', '.', 'Sensing', 'technologies', 'designed', 'welding', 'automation', 'essential', 'elements', 'enabling', 'desired', 'level', 'control', '.', 'The', 'sensors', 'applied', 'observe', 'measure', 'process', 'parameters', ',', 'acting', 'sources', 'input', 'control', 'system', '.', 'By', 'acquiring', 'analysing', 'input', 'information', 'sensors', ',', 'control', 'system', 'adapts', 'output', 'robotised', 'welding', 'process', 'accordance', 'defined', 'welding', 'procedure', 'specifications', '.', 'There', 'various', 'types', 'sensors', 'available', 'robotic', 'arc', 'welding', 'applications', '.', 'Depending', 'functions', ',', 'sensors', 'classified', 'two', 'categories', ':', 'process', 'geometrical', '.', 'The', 'former', 'measure', 'process', 'parameters', 'robotic', 'welding', 'process', '(', 'eg', 'arc', 'voltage', ',', 'current', ',', 'wire', 'feed', 'speed', 'torch', 'rotation', ')', ',', 'determine', 'stability', 'process', '.', 'The', 'latter', 'measure', 'weld', 'joint', 'geometry', '(', 'eg', 'gap', 'sizes', ',', 'weld', 'size', 'changes', ',', 'deviation', 'nominal', 'path', 'orientation', 'changes', ')', 'used', 'weld', 'searching', ',', 'seam', 'tracking', 'real-time', 'adaptive', 'welding', '.', 'The', 'primary', 'benefit', 'robotic', 'arc', 'welding', 'production', 'high-quality', 'welds', 'shorter', 'cycle', 'time', ',', 'manufacturing', 'flexibility', 'another', 'major', 'advantage', '.', 'Through', 'extensive', 'application', 'many', 'manufacturing', 'industry', 'sectors', ',', 'robotic', 'welding', 'developed', 'mature', 'production', 'method', '.', 'Strong', 'industrial', 'need', 'continues', 'drive', 'rapid', 'development', 'robotic', 'arc', 'welding', 'associated', 'technologies', 'overcome', 'technical', 'difficulties', 'expand', 'capability', '.']\n"
          ]
        }
      ]
    },
    {
      "cell_type": "markdown",
      "source": [
        "## Convert To Lowercase"
      ],
      "metadata": {
        "id": "lrMxHsBzM1Yp"
      }
    },
    {
      "cell_type": "code",
      "source": [
        "#text=\"HELLo bOY!!\"\n",
        "text=x.raw()\n",
        "print(text.lower())"
      ],
      "metadata": {
        "colab": {
          "base_uri": "https://localhost:8080/"
        },
        "id": "rYG7bGGLNAQS",
        "outputId": "c45334e8-e216-4e35-f028-ab26b49c1db7"
      },
      "execution_count": 9,
      "outputs": [
        {
          "output_type": "stream",
          "name": "stdout",
          "text": [
            "a basic robotic arc welding system is formed by two subsystems: the welding equipment delivering the energy from the welding power source to the workpiece, and the robot providing relative positioning of the heat source and the workpiece. normally six-axis industrial robots comprising a three-axis lower arm and a three-axis wrist are used, since they enable the welding torch mounted at the wrist to achieve all the positions necessary for three-dimensional welding. traditionally, general purpose industrial robots are employed, carrying arc welding torches as end effectors. \r\n",
            "sensing technologies designed for welding and its automation are the essential elements for enabling this desired level of control. the sensors are applied to observe and measure process parameters, acting as the sources of input to the control system. by acquiring and analysing the input information from the sensors, the control system adapts output of the robotised welding process in accordance with the defined welding procedure specifications. \r\n",
            "there are various types of sensors available for robotic arc welding applications. depending on their functions, the sensors are classified into two categories: process and geometrical. the former measure the process parameters of the robotic welding process (eg arc voltage, current, wire feed speed and torch rotation), which determine the stability of the process. the latter measure the weld joint geometry (eg gap sizes, weld size changes, deviation from the nominal path and orientation changes) and are used for weld searching, seam tracking and real-time adaptive welding.\r\n",
            "the primary benefit of robotic arc welding is the production of high-quality welds in a shorter cycle time, with manufacturing flexibility another major advantage. through extensive application in many manufacturing industry sectors, robotic welding has been developed to a mature production method. strong industrial need continues to drive the rapid development of robotic arc welding and associated technologies to overcome technical difficulties and expand their capability.\r\n",
            "\n"
          ]
        }
      ]
    },
    {
      "cell_type": "markdown",
      "source": [
        "## Sentence Segmentation"
      ],
      "metadata": {
        "id": "e_2LkNV1Ngsx"
      }
    },
    {
      "cell_type": "code",
      "source": [
        "from nltk.tokenize import sent_tokenize\n",
        "#text = \"God is Great! I won a lottery.\"\n",
        "text=x.raw()\n",
        "print(sent_tokenize(text))\n",
        "\n"
      ],
      "metadata": {
        "colab": {
          "base_uri": "https://localhost:8080/"
        },
        "id": "EUC65487Niqs",
        "outputId": "38fbc780-20dd-4993-8996-5738b5d2765c"
      },
      "execution_count": 10,
      "outputs": [
        {
          "output_type": "stream",
          "name": "stdout",
          "text": [
            "['A basic robotic arc welding system is formed by two subsystems: the welding equipment delivering the energy from the welding power source to the workpiece, and the robot providing relative positioning of the heat source and the workpiece.', 'Normally six-axis industrial robots comprising a three-axis lower arm and a three-axis wrist are used, since they enable the welding torch mounted at the wrist to achieve all the positions necessary for three-dimensional welding.', 'Traditionally, general purpose industrial robots are employed, carrying arc welding torches as end effectors.', 'Sensing technologies designed for welding and its automation are the essential elements for enabling this desired level of control.', 'The sensors are applied to observe and measure process parameters, acting as the sources of input to the control system.', 'By acquiring and analysing the input information from the sensors, the control system adapts output of the robotised welding process in accordance with the defined welding procedure specifications.', 'There are various types of sensors available for robotic arc welding applications.', 'Depending on their functions, the sensors are classified into two categories: process and geometrical.', 'The former measure the process parameters of the robotic welding process (eg arc voltage, current, wire feed speed and torch rotation), which determine the stability of the process.', 'The latter measure the weld joint geometry (eg gap sizes, weld size changes, deviation from the nominal path and orientation changes) and are used for weld searching, seam tracking and real-time adaptive welding.', 'The primary benefit of robotic arc welding is the production of high-quality welds in a shorter cycle time, with manufacturing flexibility another major advantage.', 'Through extensive application in many manufacturing industry sectors, robotic welding has been developed to a mature production method.', 'Strong industrial need continues to drive the rapid development of robotic arc welding and associated technologies to overcome technical difficulties and expand their capability.']\n"
          ]
        }
      ]
    }
  ]
}